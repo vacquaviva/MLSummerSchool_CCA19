{
 "cells": [
  {
   "cell_type": "code",
   "execution_count": null,
   "metadata": {},
   "outputs": [],
   "source": [
    "# This is a notebook to do some basic data exploration and \n",
    "# run some bagging/boosted methods \n",
    "# on a sample data set to distinguish between Lyman Alpha Emitting \n",
    "# Galaxies and OII Emitting Galaxies.\n",
    "\n",
    "#Author: Viviana Acquaviva\n",
    "\n",
    "#License: BSD but really should be TBD - just be nice."
   ]
  },
  {
   "cell_type": "markdown",
   "metadata": {},
   "source": [
    "### Bagging and Boosting Methods\n",
    "\n",
    "Random Forests and XGBoost!"
   ]
  },
  {
   "cell_type": "code",
   "execution_count": 1,
   "metadata": {},
   "outputs": [],
   "source": [
    "import pandas as pd\n",
    "import numpy as np\n",
    "import time\n",
    "from scipy import stats\n",
    "from sklearn.model_selection import train_test_split\n",
    "from sklearn.model_selection import cross_val_predict, cross_val_score\n",
    "from sklearn.model_selection import StratifiedKFold\n",
    "from sklearn.model_selection import GridSearchCV\n",
    "from sklearn import metrics \n",
    "import matplotlib.pyplot as plt\n",
    "from sklearn.ensemble import RandomForestClassifier, ExtraTreesClassifier, \\\n",
    "    GradientBoostingClassifier\n",
    "from sklearn.preprocessing import LabelEncoder\n",
    "import warnings\n",
    "\n",
    "\n",
    "#Just to make our life easier!\n",
    "import warnings\n",
    "warnings.filterwarnings(\"ignore\", category=DeprecationWarning)\n",
    "warnings.filterwarnings(\"ignore\", category=RuntimeWarning) \n",
    "warnings.filterwarnings(\"ignore\", category=FutureWarning) "
   ]
  },
  {
   "cell_type": "code",
   "execution_count": 2,
   "metadata": {},
   "outputs": [],
   "source": [
    "def plot_confusion_matrix(cm, classes,\n",
    "                          normalize=False,\n",
    "                          title='Confusion matrix',\n",
    "                          cmap=plt.cm.Blues):\n",
    "    \"\"\"\n",
    "    This function prints and plots the confusion matrix.\n",
    "    Normalization can be applied by setting `normalize=True`.\n",
    "    \"\"\"\n",
    "    if normalize:\n",
    "        cm = cm.astype('float') / cm.sum(axis=1)[:, np.newaxis]\n",
    "        print(\"Normalized confusion matrix\")\n",
    "    else:\n",
    "        print('Confusion matrix, without normalization')\n",
    "\n",
    "\n",
    "    plt.imshow(cm, interpolation='nearest', cmap=cmap)\n",
    "    plt.title(title)\n",
    "    plt.colorbar()\n",
    "    tick_marks = np.arange(len(classes))\n",
    "    plt.xticks(tick_marks, classes, rotation=45)\n",
    "    plt.yticks(tick_marks, classes)\n",
    "\n",
    "    fmt = '.2f' if normalize else 'd'\n",
    "    thresh = cm.max() / 2.\n",
    "    for i in range(cm.shape[0]):\n",
    "        for j in range(cm.shape[1]):\n",
    "            plt.text(j, i, format(cm[i, j], fmt),\n",
    "                 horizontalalignment=\"center\",\n",
    "                 color=\"white\" if cm[i, j] > thresh else \"black\")\n",
    "\n",
    "    plt.tight_layout()\n",
    "    plt.ylabel('True label')\n",
    "    plt.xlabel('Predicted label')"
   ]
  },
  {
   "cell_type": "markdown",
   "metadata": {},
   "source": [
    "### Data import"
   ]
  },
  {
   "cell_type": "markdown",
   "metadata": {},
   "source": [
    "Read the data in a data frame using pandas, take a look at them, check the size of the data set, rename columns to something easier to type."
   ]
  },
  {
   "cell_type": "code",
   "execution_count": 3,
   "metadata": {},
   "outputs": [],
   "source": [
    "data = pd.read_csv('LAE_OII_CCA.txt', sep = '\\t', comment = '#')"
   ]
  },
  {
   "cell_type": "code",
   "execution_count": 4,
   "metadata": {},
   "outputs": [
    {
     "data": {
      "text/html": [
       "<div>\n",
       "<style scoped>\n",
       "    .dataframe tbody tr th:only-of-type {\n",
       "        vertical-align: middle;\n",
       "    }\n",
       "\n",
       "    .dataframe tbody tr th {\n",
       "        vertical-align: top;\n",
       "    }\n",
       "\n",
       "    .dataframe thead th {\n",
       "        text-align: right;\n",
       "    }\n",
       "</style>\n",
       "<table border=\"1\" class=\"dataframe\">\n",
       "  <thead>\n",
       "    <tr style=\"text-align: right;\">\n",
       "      <th></th>\n",
       "      <th>type</th>\n",
       "      <th>wavelength of EL (angstroms)</th>\n",
       "      <th>EL flux (erg/cm^2/s)</th>\n",
       "      <th>continuum flux density</th>\n",
       "      <th>EW observed</th>\n",
       "    </tr>\n",
       "  </thead>\n",
       "  <tbody>\n",
       "    <tr>\n",
       "      <th>0</th>\n",
       "      <td>LAE</td>\n",
       "      <td>4114.6</td>\n",
       "      <td>1.787900e-16</td>\n",
       "      <td>1.0146</td>\n",
       "      <td>99.516</td>\n",
       "    </tr>\n",
       "    <tr>\n",
       "      <th>1</th>\n",
       "      <td>LAE</td>\n",
       "      <td>3869.9</td>\n",
       "      <td>6.304500e-17</td>\n",
       "      <td>0.2145</td>\n",
       "      <td>146.820</td>\n",
       "    </tr>\n",
       "    <tr>\n",
       "      <th>2</th>\n",
       "      <td>LAE</td>\n",
       "      <td>3962.6</td>\n",
       "      <td>6.446300e-17</td>\n",
       "      <td>0.2983</td>\n",
       "      <td>113.190</td>\n",
       "    </tr>\n",
       "    <tr>\n",
       "      <th>3</th>\n",
       "      <td>LAE</td>\n",
       "      <td>3901.7</td>\n",
       "      <td>1.007500e-16</td>\n",
       "      <td>0.0211</td>\n",
       "      <td>2424.600</td>\n",
       "    </tr>\n",
       "    <tr>\n",
       "      <th>4</th>\n",
       "      <td>LAE</td>\n",
       "      <td>3954.3</td>\n",
       "      <td>7.311100e-17</td>\n",
       "      <td>1.0416</td>\n",
       "      <td>36.611</td>\n",
       "    </tr>\n",
       "  </tbody>\n",
       "</table>\n",
       "</div>"
      ],
      "text/plain": [
       "  type  wavelength of EL (angstroms)  EL flux (erg/cm^2/s)  \\\n",
       "0  LAE                        4114.6          1.787900e-16   \n",
       "1  LAE                        3869.9          6.304500e-17   \n",
       "2  LAE                        3962.6          6.446300e-17   \n",
       "3  LAE                        3901.7          1.007500e-16   \n",
       "4  LAE                        3954.3          7.311100e-17   \n",
       "\n",
       "   continuum flux density  EW observed  \n",
       "0                  1.0146       99.516  \n",
       "1                  0.2145      146.820  \n",
       "2                  0.2983      113.190  \n",
       "3                  0.0211     2424.600  \n",
       "4                  1.0416       36.611  "
      ]
     },
     "execution_count": 4,
     "metadata": {},
     "output_type": "execute_result"
    }
   ],
   "source": [
    "data.head()"
   ]
  },
  {
   "cell_type": "code",
   "execution_count": 7,
   "metadata": {},
   "outputs": [
    {
     "data": {
      "text/plain": [
       "type                            5436\n",
       "wavelength of EL (angstroms)    5436\n",
       "EL flux (erg/cm^2/s)            5436\n",
       "continuum flux density          5436\n",
       "EW observed                     5436\n",
       "dtype: int64"
      ]
     },
     "execution_count": 7,
     "metadata": {},
     "output_type": "execute_result"
    }
   ],
   "source": [
    "data.count()"
   ]
  },
  {
   "cell_type": "code",
   "execution_count": 8,
   "metadata": {},
   "outputs": [],
   "source": [
    "data.columns =['type', 'wavelength', 'ELflux', 'continuum', 'EW']"
   ]
  },
  {
   "cell_type": "code",
   "execution_count": 9,
   "metadata": {},
   "outputs": [
    {
     "data": {
      "text/html": [
       "<div>\n",
       "<style scoped>\n",
       "    .dataframe tbody tr th:only-of-type {\n",
       "        vertical-align: middle;\n",
       "    }\n",
       "\n",
       "    .dataframe tbody tr th {\n",
       "        vertical-align: top;\n",
       "    }\n",
       "\n",
       "    .dataframe thead th {\n",
       "        text-align: right;\n",
       "    }\n",
       "</style>\n",
       "<table border=\"1\" class=\"dataframe\">\n",
       "  <thead>\n",
       "    <tr style=\"text-align: right;\">\n",
       "      <th></th>\n",
       "      <th>type</th>\n",
       "      <th>wavelength</th>\n",
       "      <th>ELflux</th>\n",
       "      <th>continuum</th>\n",
       "      <th>EW</th>\n",
       "    </tr>\n",
       "  </thead>\n",
       "  <tbody>\n",
       "    <tr>\n",
       "      <th>0</th>\n",
       "      <td>LAE</td>\n",
       "      <td>4114.6</td>\n",
       "      <td>1.787900e-16</td>\n",
       "      <td>1.0146</td>\n",
       "      <td>99.516</td>\n",
       "    </tr>\n",
       "    <tr>\n",
       "      <th>1</th>\n",
       "      <td>LAE</td>\n",
       "      <td>3869.9</td>\n",
       "      <td>6.304500e-17</td>\n",
       "      <td>0.2145</td>\n",
       "      <td>146.820</td>\n",
       "    </tr>\n",
       "    <tr>\n",
       "      <th>2</th>\n",
       "      <td>LAE</td>\n",
       "      <td>3962.6</td>\n",
       "      <td>6.446300e-17</td>\n",
       "      <td>0.2983</td>\n",
       "      <td>113.190</td>\n",
       "    </tr>\n",
       "    <tr>\n",
       "      <th>3</th>\n",
       "      <td>LAE</td>\n",
       "      <td>3901.7</td>\n",
       "      <td>1.007500e-16</td>\n",
       "      <td>0.0211</td>\n",
       "      <td>2424.600</td>\n",
       "    </tr>\n",
       "    <tr>\n",
       "      <th>4</th>\n",
       "      <td>LAE</td>\n",
       "      <td>3954.3</td>\n",
       "      <td>7.311100e-17</td>\n",
       "      <td>1.0416</td>\n",
       "      <td>36.611</td>\n",
       "    </tr>\n",
       "  </tbody>\n",
       "</table>\n",
       "</div>"
      ],
      "text/plain": [
       "  type  wavelength        ELflux  continuum        EW\n",
       "0  LAE      4114.6  1.787900e-16     1.0146    99.516\n",
       "1  LAE      3869.9  6.304500e-17     0.2145   146.820\n",
       "2  LAE      3962.6  6.446300e-17     0.2983   113.190\n",
       "3  LAE      3901.7  1.007500e-16     0.0211  2424.600\n",
       "4  LAE      3954.3  7.311100e-17     1.0416    36.611"
      ]
     },
     "execution_count": 9,
     "metadata": {},
     "output_type": "execute_result"
    }
   ],
   "source": [
    "data.head()"
   ]
  },
  {
   "cell_type": "markdown",
   "metadata": {},
   "source": [
    "### Data exploration"
   ]
  },
  {
   "cell_type": "markdown",
   "metadata": {},
   "source": [
    "Look at data properties divided by type to figure out some differences between LAEs and OIIs. Change settings to visualize all the columns in a data frame. Eliminate outliers."
   ]
  },
  {
   "cell_type": "code",
   "execution_count": 10,
   "metadata": {},
   "outputs": [
    {
     "data": {
      "text/html": [
       "<div>\n",
       "<style scoped>\n",
       "    .dataframe tbody tr th:only-of-type {\n",
       "        vertical-align: middle;\n",
       "    }\n",
       "\n",
       "    .dataframe tbody tr th {\n",
       "        vertical-align: top;\n",
       "    }\n",
       "\n",
       "    .dataframe thead th {\n",
       "        text-align: right;\n",
       "    }\n",
       "</style>\n",
       "<table border=\"1\" class=\"dataframe\">\n",
       "  <thead>\n",
       "    <tr style=\"text-align: right;\">\n",
       "      <th></th>\n",
       "      <th>wavelength</th>\n",
       "      <th>ELflux</th>\n",
       "      <th>continuum</th>\n",
       "      <th>EW</th>\n",
       "    </tr>\n",
       "  </thead>\n",
       "  <tbody>\n",
       "    <tr>\n",
       "      <th>count</th>\n",
       "      <td>5436.00000</td>\n",
       "      <td>5.436000e+03</td>\n",
       "      <td>5436.000000</td>\n",
       "      <td>5436.000000</td>\n",
       "    </tr>\n",
       "    <tr>\n",
       "      <th>mean</th>\n",
       "      <td>4015.02660</td>\n",
       "      <td>2.449815e-16</td>\n",
       "      <td>68.686761</td>\n",
       "      <td>440.655398</td>\n",
       "    </tr>\n",
       "    <tr>\n",
       "      <th>std</th>\n",
       "      <td>112.44312</td>\n",
       "      <td>1.021284e-15</td>\n",
       "      <td>854.380290</td>\n",
       "      <td>3353.032457</td>\n",
       "    </tr>\n",
       "    <tr>\n",
       "      <th>min</th>\n",
       "      <td>3800.20000</td>\n",
       "      <td>4.276800e-17</td>\n",
       "      <td>-0.241100</td>\n",
       "      <td>0.008900</td>\n",
       "    </tr>\n",
       "    <tr>\n",
       "      <th>25%</th>\n",
       "      <td>3923.27500</td>\n",
       "      <td>5.849275e-17</td>\n",
       "      <td>0.208650</td>\n",
       "      <td>17.725000</td>\n",
       "    </tr>\n",
       "    <tr>\n",
       "      <th>50%</th>\n",
       "      <td>4018.35000</td>\n",
       "      <td>7.434850e-17</td>\n",
       "      <td>0.504750</td>\n",
       "      <td>80.634000</td>\n",
       "    </tr>\n",
       "    <tr>\n",
       "      <th>75%</th>\n",
       "      <td>4113.52500</td>\n",
       "      <td>1.123825e-16</td>\n",
       "      <td>2.763625</td>\n",
       "      <td>188.425000</td>\n",
       "    </tr>\n",
       "    <tr>\n",
       "      <th>max</th>\n",
       "      <td>4200.00000</td>\n",
       "      <td>3.426100e-14</td>\n",
       "      <td>41370.000000</td>\n",
       "      <td>157450.000000</td>\n",
       "    </tr>\n",
       "  </tbody>\n",
       "</table>\n",
       "</div>"
      ],
      "text/plain": [
       "       wavelength        ELflux     continuum             EW\n",
       "count  5436.00000  5.436000e+03   5436.000000    5436.000000\n",
       "mean   4015.02660  2.449815e-16     68.686761     440.655398\n",
       "std     112.44312  1.021284e-15    854.380290    3353.032457\n",
       "min    3800.20000  4.276800e-17     -0.241100       0.008900\n",
       "25%    3923.27500  5.849275e-17      0.208650      17.725000\n",
       "50%    4018.35000  7.434850e-17      0.504750      80.634000\n",
       "75%    4113.52500  1.123825e-16      2.763625     188.425000\n",
       "max    4200.00000  3.426100e-14  41370.000000  157450.000000"
      ]
     },
     "execution_count": 10,
     "metadata": {},
     "output_type": "execute_result"
    }
   ],
   "source": [
    "data.describe()"
   ]
  },
  {
   "cell_type": "code",
   "execution_count": 12,
   "metadata": {},
   "outputs": [
    {
     "data": {
      "text/html": [
       "<div>\n",
       "<style scoped>\n",
       "    .dataframe tbody tr th:only-of-type {\n",
       "        vertical-align: middle;\n",
       "    }\n",
       "\n",
       "    .dataframe tbody tr th {\n",
       "        vertical-align: top;\n",
       "    }\n",
       "\n",
       "    .dataframe thead tr th {\n",
       "        text-align: left;\n",
       "    }\n",
       "\n",
       "    .dataframe thead tr:last-of-type th {\n",
       "        text-align: right;\n",
       "    }\n",
       "</style>\n",
       "<table border=\"1\" class=\"dataframe\">\n",
       "  <thead>\n",
       "    <tr>\n",
       "      <th></th>\n",
       "      <th colspan=\"8\" halign=\"left\">wavelength</th>\n",
       "      <th colspan=\"2\" halign=\"left\">ELflux</th>\n",
       "      <th>...</th>\n",
       "      <th colspan=\"2\" halign=\"left\">continuum</th>\n",
       "      <th colspan=\"8\" halign=\"left\">EW</th>\n",
       "    </tr>\n",
       "    <tr>\n",
       "      <th></th>\n",
       "      <th>count</th>\n",
       "      <th>mean</th>\n",
       "      <th>std</th>\n",
       "      <th>min</th>\n",
       "      <th>25%</th>\n",
       "      <th>50%</th>\n",
       "      <th>75%</th>\n",
       "      <th>max</th>\n",
       "      <th>count</th>\n",
       "      <th>mean</th>\n",
       "      <th>...</th>\n",
       "      <th>75%</th>\n",
       "      <th>max</th>\n",
       "      <th>count</th>\n",
       "      <th>mean</th>\n",
       "      <th>std</th>\n",
       "      <th>min</th>\n",
       "      <th>25%</th>\n",
       "      <th>50%</th>\n",
       "      <th>75%</th>\n",
       "      <th>max</th>\n",
       "    </tr>\n",
       "    <tr>\n",
       "      <th>type</th>\n",
       "      <th></th>\n",
       "      <th></th>\n",
       "      <th></th>\n",
       "      <th></th>\n",
       "      <th></th>\n",
       "      <th></th>\n",
       "      <th></th>\n",
       "      <th></th>\n",
       "      <th></th>\n",
       "      <th></th>\n",
       "      <th></th>\n",
       "      <th></th>\n",
       "      <th></th>\n",
       "      <th></th>\n",
       "      <th></th>\n",
       "      <th></th>\n",
       "      <th></th>\n",
       "      <th></th>\n",
       "      <th></th>\n",
       "      <th></th>\n",
       "      <th></th>\n",
       "    </tr>\n",
       "  </thead>\n",
       "  <tbody>\n",
       "    <tr>\n",
       "      <th>LAE</th>\n",
       "      <td>4415.0</td>\n",
       "      <td>4003.127475</td>\n",
       "      <td>112.761281</td>\n",
       "      <td>3800.2</td>\n",
       "      <td>3908.35</td>\n",
       "      <td>3999.6</td>\n",
       "      <td>4103.1</td>\n",
       "      <td>4200.0</td>\n",
       "      <td>4415.0</td>\n",
       "      <td>8.005258e-17</td>\n",
       "      <td>...</td>\n",
       "      <td>0.8817</td>\n",
       "      <td>2669.9</td>\n",
       "      <td>4415.0</td>\n",
       "      <td>540.767356</td>\n",
       "      <td>3713.490362</td>\n",
       "      <td>0.0304</td>\n",
       "      <td>48.295</td>\n",
       "      <td>111.1700</td>\n",
       "      <td>219.205</td>\n",
       "      <td>157450.000</td>\n",
       "    </tr>\n",
       "    <tr>\n",
       "      <th>OII</th>\n",
       "      <td>1021.0</td>\n",
       "      <td>4066.480705</td>\n",
       "      <td>95.303749</td>\n",
       "      <td>3826.2</td>\n",
       "      <td>3998.80</td>\n",
       "      <td>4085.8</td>\n",
       "      <td>4148.2</td>\n",
       "      <td>4199.8</td>\n",
       "      <td>1021.0</td>\n",
       "      <td>9.581660e-16</td>\n",
       "      <td>...</td>\n",
       "      <td>149.6100</td>\n",
       "      <td>41370.0</td>\n",
       "      <td>1021.0</td>\n",
       "      <td>7.752076</td>\n",
       "      <td>8.049062</td>\n",
       "      <td>0.0089</td>\n",
       "      <td>2.110</td>\n",
       "      <td>5.1784</td>\n",
       "      <td>10.639</td>\n",
       "      <td>69.723</td>\n",
       "    </tr>\n",
       "  </tbody>\n",
       "</table>\n",
       "<p>2 rows × 32 columns</p>\n",
       "</div>"
      ],
      "text/plain": [
       "     wavelength                                                            \\\n",
       "          count         mean         std     min      25%     50%     75%   \n",
       "type                                                                        \n",
       "LAE      4415.0  4003.127475  112.761281  3800.2  3908.35  3999.6  4103.1   \n",
       "OII      1021.0  4066.480705   95.303749  3826.2  3998.80  4085.8  4148.2   \n",
       "\n",
       "              ELflux                ... continuum               EW  \\\n",
       "         max   count          mean  ...       75%      max   count   \n",
       "type                                ...                              \n",
       "LAE   4200.0  4415.0  8.005258e-17  ...    0.8817   2669.9  4415.0   \n",
       "OII   4199.8  1021.0  9.581660e-16  ...  149.6100  41370.0  1021.0   \n",
       "\n",
       "                                                                              \n",
       "            mean          std     min     25%       50%      75%         max  \n",
       "type                                                                          \n",
       "LAE   540.767356  3713.490362  0.0304  48.295  111.1700  219.205  157450.000  \n",
       "OII     7.752076     8.049062  0.0089   2.110    5.1784   10.639      69.723  \n",
       "\n",
       "[2 rows x 32 columns]"
      ]
     },
     "execution_count": 12,
     "metadata": {},
     "output_type": "execute_result"
    }
   ],
   "source": [
    "data.groupby('type').describe()"
   ]
  },
  {
   "cell_type": "code",
   "execution_count": 13,
   "metadata": {},
   "outputs": [],
   "source": [
    "pd.set_option('display.max_columns', 500)"
   ]
  },
  {
   "cell_type": "code",
   "execution_count": 14,
   "metadata": {},
   "outputs": [
    {
     "data": {
      "text/html": [
       "<div>\n",
       "<style scoped>\n",
       "    .dataframe tbody tr th:only-of-type {\n",
       "        vertical-align: middle;\n",
       "    }\n",
       "\n",
       "    .dataframe tbody tr th {\n",
       "        vertical-align: top;\n",
       "    }\n",
       "\n",
       "    .dataframe thead tr th {\n",
       "        text-align: left;\n",
       "    }\n",
       "\n",
       "    .dataframe thead tr:last-of-type th {\n",
       "        text-align: right;\n",
       "    }\n",
       "</style>\n",
       "<table border=\"1\" class=\"dataframe\">\n",
       "  <thead>\n",
       "    <tr>\n",
       "      <th></th>\n",
       "      <th colspan=\"8\" halign=\"left\">wavelength</th>\n",
       "      <th colspan=\"8\" halign=\"left\">ELflux</th>\n",
       "      <th colspan=\"8\" halign=\"left\">continuum</th>\n",
       "      <th colspan=\"8\" halign=\"left\">EW</th>\n",
       "    </tr>\n",
       "    <tr>\n",
       "      <th></th>\n",
       "      <th>count</th>\n",
       "      <th>mean</th>\n",
       "      <th>std</th>\n",
       "      <th>min</th>\n",
       "      <th>25%</th>\n",
       "      <th>50%</th>\n",
       "      <th>75%</th>\n",
       "      <th>max</th>\n",
       "      <th>count</th>\n",
       "      <th>mean</th>\n",
       "      <th>std</th>\n",
       "      <th>min</th>\n",
       "      <th>25%</th>\n",
       "      <th>50%</th>\n",
       "      <th>75%</th>\n",
       "      <th>max</th>\n",
       "      <th>count</th>\n",
       "      <th>mean</th>\n",
       "      <th>std</th>\n",
       "      <th>min</th>\n",
       "      <th>25%</th>\n",
       "      <th>50%</th>\n",
       "      <th>75%</th>\n",
       "      <th>max</th>\n",
       "      <th>count</th>\n",
       "      <th>mean</th>\n",
       "      <th>std</th>\n",
       "      <th>min</th>\n",
       "      <th>25%</th>\n",
       "      <th>50%</th>\n",
       "      <th>75%</th>\n",
       "      <th>max</th>\n",
       "    </tr>\n",
       "    <tr>\n",
       "      <th>type</th>\n",
       "      <th></th>\n",
       "      <th></th>\n",
       "      <th></th>\n",
       "      <th></th>\n",
       "      <th></th>\n",
       "      <th></th>\n",
       "      <th></th>\n",
       "      <th></th>\n",
       "      <th></th>\n",
       "      <th></th>\n",
       "      <th></th>\n",
       "      <th></th>\n",
       "      <th></th>\n",
       "      <th></th>\n",
       "      <th></th>\n",
       "      <th></th>\n",
       "      <th></th>\n",
       "      <th></th>\n",
       "      <th></th>\n",
       "      <th></th>\n",
       "      <th></th>\n",
       "      <th></th>\n",
       "      <th></th>\n",
       "      <th></th>\n",
       "      <th></th>\n",
       "      <th></th>\n",
       "      <th></th>\n",
       "      <th></th>\n",
       "      <th></th>\n",
       "      <th></th>\n",
       "      <th></th>\n",
       "      <th></th>\n",
       "    </tr>\n",
       "  </thead>\n",
       "  <tbody>\n",
       "    <tr>\n",
       "      <th>LAE</th>\n",
       "      <td>4415.0</td>\n",
       "      <td>4003.127475</td>\n",
       "      <td>112.761281</td>\n",
       "      <td>3800.2</td>\n",
       "      <td>3908.35</td>\n",
       "      <td>3999.6</td>\n",
       "      <td>4103.1</td>\n",
       "      <td>4200.0</td>\n",
       "      <td>4415.0</td>\n",
       "      <td>8.005258e-17</td>\n",
       "      <td>3.630592e-17</td>\n",
       "      <td>4.276800e-17</td>\n",
       "      <td>5.655650e-17</td>\n",
       "      <td>6.891900e-17</td>\n",
       "      <td>9.028000e-17</td>\n",
       "      <td>4.380200e-16</td>\n",
       "      <td>4415.0</td>\n",
       "      <td>3.095571</td>\n",
       "      <td>58.841667</td>\n",
       "      <td>-0.2411</td>\n",
       "      <td>0.1744</td>\n",
       "      <td>0.3545</td>\n",
       "      <td>0.8817</td>\n",
       "      <td>2669.9</td>\n",
       "      <td>4415.0</td>\n",
       "      <td>540.767356</td>\n",
       "      <td>3713.490362</td>\n",
       "      <td>0.0304</td>\n",
       "      <td>48.295</td>\n",
       "      <td>111.1700</td>\n",
       "      <td>219.205</td>\n",
       "      <td>157450.000</td>\n",
       "    </tr>\n",
       "    <tr>\n",
       "      <th>OII</th>\n",
       "      <td>1021.0</td>\n",
       "      <td>4066.480705</td>\n",
       "      <td>95.303749</td>\n",
       "      <td>3826.2</td>\n",
       "      <td>3998.80</td>\n",
       "      <td>4085.8</td>\n",
       "      <td>4148.2</td>\n",
       "      <td>4199.8</td>\n",
       "      <td>1021.0</td>\n",
       "      <td>9.581660e-16</td>\n",
       "      <td>2.219254e-15</td>\n",
       "      <td>4.495600e-17</td>\n",
       "      <td>1.125200e-16</td>\n",
       "      <td>2.738200e-16</td>\n",
       "      <td>7.966100e-16</td>\n",
       "      <td>3.426100e-14</td>\n",
       "      <td>1021.0</td>\n",
       "      <td>352.315656</td>\n",
       "      <td>1943.049897</td>\n",
       "      <td>0.6176</td>\n",
       "      <td>11.0200</td>\n",
       "      <td>35.0440</td>\n",
       "      <td>149.6100</td>\n",
       "      <td>41370.0</td>\n",
       "      <td>1021.0</td>\n",
       "      <td>7.752076</td>\n",
       "      <td>8.049062</td>\n",
       "      <td>0.0089</td>\n",
       "      <td>2.110</td>\n",
       "      <td>5.1784</td>\n",
       "      <td>10.639</td>\n",
       "      <td>69.723</td>\n",
       "    </tr>\n",
       "  </tbody>\n",
       "</table>\n",
       "</div>"
      ],
      "text/plain": [
       "     wavelength                                                            \\\n",
       "          count         mean         std     min      25%     50%     75%   \n",
       "type                                                                        \n",
       "LAE      4415.0  4003.127475  112.761281  3800.2  3908.35  3999.6  4103.1   \n",
       "OII      1021.0  4066.480705   95.303749  3826.2  3998.80  4085.8  4148.2   \n",
       "\n",
       "              ELflux                                                          \\\n",
       "         max   count          mean           std           min           25%   \n",
       "type                                                                           \n",
       "LAE   4200.0  4415.0  8.005258e-17  3.630592e-17  4.276800e-17  5.655650e-17   \n",
       "OII   4199.8  1021.0  9.581660e-16  2.219254e-15  4.495600e-17  1.125200e-16   \n",
       "\n",
       "                                               continuum              \\\n",
       "               50%           75%           max     count        mean   \n",
       "type                                                                   \n",
       "LAE   6.891900e-17  9.028000e-17  4.380200e-16    4415.0    3.095571   \n",
       "OII   2.738200e-16  7.966100e-16  3.426100e-14    1021.0  352.315656   \n",
       "\n",
       "                                                                    EW  \\\n",
       "              std     min      25%      50%       75%      max   count   \n",
       "type                                                                     \n",
       "LAE     58.841667 -0.2411   0.1744   0.3545    0.8817   2669.9  4415.0   \n",
       "OII   1943.049897  0.6176  11.0200  35.0440  149.6100  41370.0  1021.0   \n",
       "\n",
       "                                                                              \n",
       "            mean          std     min     25%       50%      75%         max  \n",
       "type                                                                          \n",
       "LAE   540.767356  3713.490362  0.0304  48.295  111.1700  219.205  157450.000  \n",
       "OII     7.752076     8.049062  0.0089   2.110    5.1784   10.639      69.723  "
      ]
     },
     "execution_count": 14,
     "metadata": {},
     "output_type": "execute_result"
    }
   ],
   "source": [
    "data.groupby('type').describe()"
   ]
  },
  {
   "cell_type": "code",
   "execution_count": 15,
   "metadata": {},
   "outputs": [
    {
     "data": {
      "text/html": [
       "<div>\n",
       "<style scoped>\n",
       "    .dataframe tbody tr th:only-of-type {\n",
       "        vertical-align: middle;\n",
       "    }\n",
       "\n",
       "    .dataframe tbody tr th {\n",
       "        vertical-align: top;\n",
       "    }\n",
       "\n",
       "    .dataframe thead tr th {\n",
       "        text-align: left;\n",
       "    }\n",
       "\n",
       "    .dataframe thead tr:last-of-type th {\n",
       "        text-align: right;\n",
       "    }\n",
       "</style>\n",
       "<table border=\"1\" class=\"dataframe\">\n",
       "  <thead>\n",
       "    <tr>\n",
       "      <th></th>\n",
       "      <th colspan=\"6\" halign=\"left\">wavelength</th>\n",
       "      <th colspan=\"6\" halign=\"left\">ELflux</th>\n",
       "      <th colspan=\"6\" halign=\"left\">continuum</th>\n",
       "      <th colspan=\"6\" halign=\"left\">EW</th>\n",
       "    </tr>\n",
       "    <tr>\n",
       "      <th></th>\n",
       "      <th>count</th>\n",
       "      <th>mean</th>\n",
       "      <th>std</th>\n",
       "      <th>min</th>\n",
       "      <th>50%</th>\n",
       "      <th>max</th>\n",
       "      <th>count</th>\n",
       "      <th>mean</th>\n",
       "      <th>std</th>\n",
       "      <th>min</th>\n",
       "      <th>50%</th>\n",
       "      <th>max</th>\n",
       "      <th>count</th>\n",
       "      <th>mean</th>\n",
       "      <th>std</th>\n",
       "      <th>min</th>\n",
       "      <th>50%</th>\n",
       "      <th>max</th>\n",
       "      <th>count</th>\n",
       "      <th>mean</th>\n",
       "      <th>std</th>\n",
       "      <th>min</th>\n",
       "      <th>50%</th>\n",
       "      <th>max</th>\n",
       "    </tr>\n",
       "    <tr>\n",
       "      <th>type</th>\n",
       "      <th></th>\n",
       "      <th></th>\n",
       "      <th></th>\n",
       "      <th></th>\n",
       "      <th></th>\n",
       "      <th></th>\n",
       "      <th></th>\n",
       "      <th></th>\n",
       "      <th></th>\n",
       "      <th></th>\n",
       "      <th></th>\n",
       "      <th></th>\n",
       "      <th></th>\n",
       "      <th></th>\n",
       "      <th></th>\n",
       "      <th></th>\n",
       "      <th></th>\n",
       "      <th></th>\n",
       "      <th></th>\n",
       "      <th></th>\n",
       "      <th></th>\n",
       "      <th></th>\n",
       "      <th></th>\n",
       "      <th></th>\n",
       "    </tr>\n",
       "  </thead>\n",
       "  <tbody>\n",
       "    <tr>\n",
       "      <th>LAE</th>\n",
       "      <td>4415.0</td>\n",
       "      <td>4003.127475</td>\n",
       "      <td>112.761281</td>\n",
       "      <td>3800.2</td>\n",
       "      <td>3999.6</td>\n",
       "      <td>4200.0</td>\n",
       "      <td>4415.0</td>\n",
       "      <td>8.005258e-17</td>\n",
       "      <td>3.630592e-17</td>\n",
       "      <td>4.276800e-17</td>\n",
       "      <td>6.891900e-17</td>\n",
       "      <td>4.380200e-16</td>\n",
       "      <td>4415.0</td>\n",
       "      <td>3.095571</td>\n",
       "      <td>58.841667</td>\n",
       "      <td>-0.2411</td>\n",
       "      <td>0.3545</td>\n",
       "      <td>2669.9</td>\n",
       "      <td>4415.0</td>\n",
       "      <td>540.767356</td>\n",
       "      <td>3713.490362</td>\n",
       "      <td>0.0304</td>\n",
       "      <td>111.1700</td>\n",
       "      <td>157450.000</td>\n",
       "    </tr>\n",
       "    <tr>\n",
       "      <th>OII</th>\n",
       "      <td>1021.0</td>\n",
       "      <td>4066.480705</td>\n",
       "      <td>95.303749</td>\n",
       "      <td>3826.2</td>\n",
       "      <td>4085.8</td>\n",
       "      <td>4199.8</td>\n",
       "      <td>1021.0</td>\n",
       "      <td>9.581660e-16</td>\n",
       "      <td>2.219254e-15</td>\n",
       "      <td>4.495600e-17</td>\n",
       "      <td>2.738200e-16</td>\n",
       "      <td>3.426100e-14</td>\n",
       "      <td>1021.0</td>\n",
       "      <td>352.315656</td>\n",
       "      <td>1943.049897</td>\n",
       "      <td>0.6176</td>\n",
       "      <td>35.0440</td>\n",
       "      <td>41370.0</td>\n",
       "      <td>1021.0</td>\n",
       "      <td>7.752076</td>\n",
       "      <td>8.049062</td>\n",
       "      <td>0.0089</td>\n",
       "      <td>5.1784</td>\n",
       "      <td>69.723</td>\n",
       "    </tr>\n",
       "  </tbody>\n",
       "</table>\n",
       "</div>"
      ],
      "text/plain": [
       "     wavelength                                                   ELflux  \\\n",
       "          count         mean         std     min     50%     max   count   \n",
       "type                                                                       \n",
       "LAE      4415.0  4003.127475  112.761281  3800.2  3999.6  4200.0  4415.0   \n",
       "OII      1021.0  4066.480705   95.303749  3826.2  4085.8  4199.8  1021.0   \n",
       "\n",
       "                                                                            \\\n",
       "              mean           std           min           50%           max   \n",
       "type                                                                         \n",
       "LAE   8.005258e-17  3.630592e-17  4.276800e-17  6.891900e-17  4.380200e-16   \n",
       "OII   9.581660e-16  2.219254e-15  4.495600e-17  2.738200e-16  3.426100e-14   \n",
       "\n",
       "     continuum                                                         EW  \\\n",
       "         count        mean          std     min      50%      max   count   \n",
       "type                                                                        \n",
       "LAE     4415.0    3.095571    58.841667 -0.2411   0.3545   2669.9  4415.0   \n",
       "OII     1021.0  352.315656  1943.049897  0.6176  35.0440  41370.0  1021.0   \n",
       "\n",
       "                                                             \n",
       "            mean          std     min       50%         max  \n",
       "type                                                         \n",
       "LAE   540.767356  3713.490362  0.0304  111.1700  157450.000  \n",
       "OII     7.752076     8.049062  0.0089    5.1784      69.723  "
      ]
     },
     "execution_count": 15,
     "metadata": {},
     "output_type": "execute_result"
    }
   ],
   "source": [
    "data.groupby('type').describe(percentiles = [])"
   ]
  },
  {
   "cell_type": "code",
   "execution_count": 17,
   "metadata": {},
   "outputs": [
    {
     "data": {
      "image/png": "[encoded data removed]",
      "text/plain": [
       "<Figure size 432x288 with 1 Axes>"
      ]
     },
     "metadata": {
      "needs_background": "light"
     },
     "output_type": "display_data"
    }
   ],
   "source": [
    "plt.hist(data[data.type == 'LAE']['EW'], bins = 20, range = (0,500), alpha = 0.5, label = 'LAE');\n",
    "plt.hist(data[data.type == 'OII']['EW'], bins = 20, range = (0,500), alpha = 0.5, label = 'OII');\n",
    "plt.legend();"
   ]
  },
  {
   "cell_type": "code",
   "execution_count": 18,
   "metadata": {},
   "outputs": [],
   "source": [
    "seldata = data[(np.abs(stats.zscore(data.drop(['type'],axis=1))) < 3).all(axis=1)]"
   ]
  },
  {
   "cell_type": "code",
   "execution_count": 19,
   "metadata": {},
   "outputs": [
    {
     "data": {
      "text/plain": [
       "((5342, 5), (5436, 5))"
      ]
     },
     "execution_count": 19,
     "metadata": {},
     "output_type": "execute_result"
    }
   ],
   "source": [
    "seldata.shape, data.shape"
   ]
  },
  {
   "cell_type": "code",
   "execution_count": 20,
   "metadata": {},
   "outputs": [
    {
     "data": {
      "text/html": [
       "<div>\n",
       "<style scoped>\n",
       "    .dataframe tbody tr th:only-of-type {\n",
       "        vertical-align: middle;\n",
       "    }\n",
       "\n",
       "    .dataframe tbody tr th {\n",
       "        vertical-align: top;\n",
       "    }\n",
       "\n",
       "    .dataframe thead tr th {\n",
       "        text-align: left;\n",
       "    }\n",
       "\n",
       "    .dataframe thead tr:last-of-type th {\n",
       "        text-align: right;\n",
       "    }\n",
       "</style>\n",
       "<table border=\"1\" class=\"dataframe\">\n",
       "  <thead>\n",
       "    <tr>\n",
       "      <th></th>\n",
       "      <th colspan=\"8\" halign=\"left\">wavelength</th>\n",
       "      <th colspan=\"8\" halign=\"left\">ELflux</th>\n",
       "      <th colspan=\"8\" halign=\"left\">continuum</th>\n",
       "      <th colspan=\"8\" halign=\"left\">EW</th>\n",
       "    </tr>\n",
       "    <tr>\n",
       "      <th></th>\n",
       "      <th>count</th>\n",
       "      <th>mean</th>\n",
       "      <th>std</th>\n",
       "      <th>min</th>\n",
       "      <th>25%</th>\n",
       "      <th>50%</th>\n",
       "      <th>75%</th>\n",
       "      <th>max</th>\n",
       "      <th>count</th>\n",
       "      <th>mean</th>\n",
       "      <th>std</th>\n",
       "      <th>min</th>\n",
       "      <th>25%</th>\n",
       "      <th>50%</th>\n",
       "      <th>75%</th>\n",
       "      <th>max</th>\n",
       "      <th>count</th>\n",
       "      <th>mean</th>\n",
       "      <th>std</th>\n",
       "      <th>min</th>\n",
       "      <th>25%</th>\n",
       "      <th>50%</th>\n",
       "      <th>75%</th>\n",
       "      <th>max</th>\n",
       "      <th>count</th>\n",
       "      <th>mean</th>\n",
       "      <th>std</th>\n",
       "      <th>min</th>\n",
       "      <th>25%</th>\n",
       "      <th>50%</th>\n",
       "      <th>75%</th>\n",
       "      <th>max</th>\n",
       "    </tr>\n",
       "    <tr>\n",
       "      <th>type</th>\n",
       "      <th></th>\n",
       "      <th></th>\n",
       "      <th></th>\n",
       "      <th></th>\n",
       "      <th></th>\n",
       "      <th></th>\n",
       "      <th></th>\n",
       "      <th></th>\n",
       "      <th></th>\n",
       "      <th></th>\n",
       "      <th></th>\n",
       "      <th></th>\n",
       "      <th></th>\n",
       "      <th></th>\n",
       "      <th></th>\n",
       "      <th></th>\n",
       "      <th></th>\n",
       "      <th></th>\n",
       "      <th></th>\n",
       "      <th></th>\n",
       "      <th></th>\n",
       "      <th></th>\n",
       "      <th></th>\n",
       "      <th></th>\n",
       "      <th></th>\n",
       "      <th></th>\n",
       "      <th></th>\n",
       "      <th></th>\n",
       "      <th></th>\n",
       "      <th></th>\n",
       "      <th></th>\n",
       "      <th></th>\n",
       "    </tr>\n",
       "  </thead>\n",
       "  <tbody>\n",
       "    <tr>\n",
       "      <th>LAE</th>\n",
       "      <td>4405.0</td>\n",
       "      <td>4003.180499</td>\n",
       "      <td>112.742738</td>\n",
       "      <td>3800.2</td>\n",
       "      <td>3908.4</td>\n",
       "      <td>3999.6</td>\n",
       "      <td>4103.1</td>\n",
       "      <td>4200.0</td>\n",
       "      <td>4405.0</td>\n",
       "      <td>8.001918e-17</td>\n",
       "      <td>3.624174e-17</td>\n",
       "      <td>4.276800e-17</td>\n",
       "      <td>5.654600e-17</td>\n",
       "      <td>6.890100e-17</td>\n",
       "      <td>9.029900e-17</td>\n",
       "      <td>4.380200e-16</td>\n",
       "      <td>4405.0</td>\n",
       "      <td>1.894401</td>\n",
       "      <td>16.136510</td>\n",
       "      <td>-0.2411</td>\n",
       "      <td>0.1753</td>\n",
       "      <td>0.355</td>\n",
       "      <td>0.8821</td>\n",
       "      <td>873.64</td>\n",
       "      <td>4405.0</td>\n",
       "      <td>418.844450</td>\n",
       "      <td>1515.982457</td>\n",
       "      <td>0.0522</td>\n",
       "      <td>48.2520</td>\n",
       "      <td>111.0500</td>\n",
       "      <td>218.310</td>\n",
       "      <td>10258.000</td>\n",
       "    </tr>\n",
       "    <tr>\n",
       "      <th>OII</th>\n",
       "      <td>937.0</td>\n",
       "      <td>4070.191889</td>\n",
       "      <td>92.860764</td>\n",
       "      <td>3826.2</td>\n",
       "      <td>4002.5</td>\n",
       "      <td>4089.3</td>\n",
       "      <td>4149.4</td>\n",
       "      <td>4199.8</td>\n",
       "      <td>937.0</td>\n",
       "      <td>5.076188e-16</td>\n",
       "      <td>6.581478e-16</td>\n",
       "      <td>4.495600e-17</td>\n",
       "      <td>1.039400e-16</td>\n",
       "      <td>2.401000e-16</td>\n",
       "      <td>6.004000e-16</td>\n",
       "      <td>3.306200e-15</td>\n",
       "      <td>937.0</td>\n",
       "      <td>117.992090</td>\n",
       "      <td>254.753536</td>\n",
       "      <td>0.6176</td>\n",
       "      <td>10.0490</td>\n",
       "      <td>28.402</td>\n",
       "      <td>101.0600</td>\n",
       "      <td>2184.10</td>\n",
       "      <td>937.0</td>\n",
       "      <td>7.901651</td>\n",
       "      <td>8.120390</td>\n",
       "      <td>0.0394</td>\n",
       "      <td>2.1635</td>\n",
       "      <td>5.4446</td>\n",
       "      <td>10.855</td>\n",
       "      <td>69.723</td>\n",
       "    </tr>\n",
       "  </tbody>\n",
       "</table>\n",
       "</div>"
      ],
      "text/plain": [
       "     wavelength                                                           \\\n",
       "          count         mean         std     min     25%     50%     75%   \n",
       "type                                                                       \n",
       "LAE      4405.0  4003.180499  112.742738  3800.2  3908.4  3999.6  4103.1   \n",
       "OII       937.0  4070.191889   92.860764  3826.2  4002.5  4089.3  4149.4   \n",
       "\n",
       "              ELflux                                                          \\\n",
       "         max   count          mean           std           min           25%   \n",
       "type                                                                           \n",
       "LAE   4200.0  4405.0  8.001918e-17  3.624174e-17  4.276800e-17  5.654600e-17   \n",
       "OII   4199.8   937.0  5.076188e-16  6.581478e-16  4.495600e-17  1.039400e-16   \n",
       "\n",
       "                                               continuum              \\\n",
       "               50%           75%           max     count        mean   \n",
       "type                                                                   \n",
       "LAE   6.890100e-17  9.029900e-17  4.380200e-16    4405.0    1.894401   \n",
       "OII   2.401000e-16  6.004000e-16  3.306200e-15     937.0  117.992090   \n",
       "\n",
       "                                                                  EW  \\\n",
       "             std     min      25%     50%       75%      max   count   \n",
       "type                                                                   \n",
       "LAE    16.136510 -0.2411   0.1753   0.355    0.8821   873.64  4405.0   \n",
       "OII   254.753536  0.6176  10.0490  28.402  101.0600  2184.10   937.0   \n",
       "\n",
       "                                                                              \n",
       "            mean          std     min      25%       50%      75%        max  \n",
       "type                                                                          \n",
       "LAE   418.844450  1515.982457  0.0522  48.2520  111.0500  218.310  10258.000  \n",
       "OII     7.901651     8.120390  0.0394   2.1635    5.4446   10.855     69.723  "
      ]
     },
     "execution_count": 20,
     "metadata": {},
     "output_type": "execute_result"
    }
   ],
   "source": [
    "seldata.groupby('type').describe()"
   ]
  },
  {
   "cell_type": "markdown",
   "metadata": {},
   "source": [
    "### Transform pandas data frame into a numpy array that can be fed to sklearn methods, create feature and target arrays, and standardize (not necessary for tree-based)."
   ]
  },
  {
   "cell_type": "code",
   "execution_count": 21,
   "metadata": {},
   "outputs": [],
   "source": [
    "le = LabelEncoder()"
   ]
  },
  {
   "cell_type": "code",
   "execution_count": 22,
   "metadata": {},
   "outputs": [],
   "source": [
    "newcol = le.fit_transform(seldata.type.values)"
   ]
  },
  {
   "cell_type": "code",
   "execution_count": 23,
   "metadata": {},
   "outputs": [
    {
     "data": {
      "text/plain": [
       "array([0, 0, 0, ..., 1, 0, 0])"
      ]
     },
     "execution_count": 23,
     "metadata": {},
     "output_type": "execute_result"
    }
   ],
   "source": [
    "newcol"
   ]
  },
  {
   "cell_type": "code",
   "execution_count": 24,
   "metadata": {},
   "outputs": [
    {
     "name": "stderr",
     "output_type": "stream",
     "text": [
      "/usr/local/lib/python3.7/site-packages/pandas/core/indexing.py:543: SettingWithCopyWarning: \n",
      "A value is trying to be set on a copy of a slice from a DataFrame.\n",
      "Try using .loc[row_indexer,col_indexer] = value instead\n",
      "\n",
      "See the caveats in the documentation: http://pandas.pydata.org/pandas-docs/stable/indexing.html#indexing-view-versus-copy\n",
      "  self.obj[item] = s\n"
     ]
    }
   ],
   "source": [
    "# Note: this assigns the positive (OII) and negative (LAE) class! \n",
    "# Need to check and if necessary, flip.\n",
    "\n",
    "seldata.ix[:,'type'] = newcol"
   ]
  },
  {
   "cell_type": "code",
   "execution_count": 25,
   "metadata": {},
   "outputs": [
    {
     "data": {
      "text/html": [
       "<div>\n",
       "<style scoped>\n",
       "    .dataframe tbody tr th:only-of-type {\n",
       "        vertical-align: middle;\n",
       "    }\n",
       "\n",
       "    .dataframe tbody tr th {\n",
       "        vertical-align: top;\n",
       "    }\n",
       "\n",
       "    .dataframe thead th {\n",
       "        text-align: right;\n",
       "    }\n",
       "</style>\n",
       "<table border=\"1\" class=\"dataframe\">\n",
       "  <thead>\n",
       "    <tr style=\"text-align: right;\">\n",
       "      <th></th>\n",
       "      <th>type</th>\n",
       "      <th>wavelength</th>\n",
       "      <th>ELflux</th>\n",
       "      <th>continuum</th>\n",
       "      <th>EW</th>\n",
       "    </tr>\n",
       "  </thead>\n",
       "  <tbody>\n",
       "    <tr>\n",
       "      <th>0</th>\n",
       "      <td>0</td>\n",
       "      <td>4114.6</td>\n",
       "      <td>1.787900e-16</td>\n",
       "      <td>1.0146</td>\n",
       "      <td>99.516</td>\n",
       "    </tr>\n",
       "    <tr>\n",
       "      <th>1</th>\n",
       "      <td>0</td>\n",
       "      <td>3869.9</td>\n",
       "      <td>6.304500e-17</td>\n",
       "      <td>0.2145</td>\n",
       "      <td>146.820</td>\n",
       "    </tr>\n",
       "    <tr>\n",
       "      <th>2</th>\n",
       "      <td>0</td>\n",
       "      <td>3962.6</td>\n",
       "      <td>6.446300e-17</td>\n",
       "      <td>0.2983</td>\n",
       "      <td>113.190</td>\n",
       "    </tr>\n",
       "    <tr>\n",
       "      <th>3</th>\n",
       "      <td>0</td>\n",
       "      <td>3901.7</td>\n",
       "      <td>1.007500e-16</td>\n",
       "      <td>0.0211</td>\n",
       "      <td>2424.600</td>\n",
       "    </tr>\n",
       "    <tr>\n",
       "      <th>4</th>\n",
       "      <td>0</td>\n",
       "      <td>3954.3</td>\n",
       "      <td>7.311100e-17</td>\n",
       "      <td>1.0416</td>\n",
       "      <td>36.611</td>\n",
       "    </tr>\n",
       "  </tbody>\n",
       "</table>\n",
       "</div>"
      ],
      "text/plain": [
       "   type  wavelength        ELflux  continuum        EW\n",
       "0     0      4114.6  1.787900e-16     1.0146    99.516\n",
       "1     0      3869.9  6.304500e-17     0.2145   146.820\n",
       "2     0      3962.6  6.446300e-17     0.2983   113.190\n",
       "3     0      3901.7  1.007500e-16     0.0211  2424.600\n",
       "4     0      3954.3  7.311100e-17     1.0416    36.611"
      ]
     },
     "execution_count": 25,
     "metadata": {},
     "output_type": "execute_result"
    }
   ],
   "source": [
    "seldata.head()"
   ]
  },
  {
   "cell_type": "code",
   "execution_count": 26,
   "metadata": {},
   "outputs": [],
   "source": [
    "X, y = seldata.drop('type',axis=1), seldata.type"
   ]
  },
  {
   "cell_type": "code",
   "execution_count": 27,
   "metadata": {},
   "outputs": [],
   "source": [
    "normalized_X = (X - X.mean())/X.std()"
   ]
  },
  {
   "cell_type": "code",
   "execution_count": 28,
   "metadata": {},
   "outputs": [
    {
     "data": {
      "text/html": [
       "<div>\n",
       "<style scoped>\n",
       "    .dataframe tbody tr th:only-of-type {\n",
       "        vertical-align: middle;\n",
       "    }\n",
       "\n",
       "    .dataframe tbody tr th {\n",
       "        vertical-align: top;\n",
       "    }\n",
       "\n",
       "    .dataframe thead th {\n",
       "        text-align: right;\n",
       "    }\n",
       "</style>\n",
       "<table border=\"1\" class=\"dataframe\">\n",
       "  <thead>\n",
       "    <tr style=\"text-align: right;\">\n",
       "      <th></th>\n",
       "      <th>wavelength</th>\n",
       "      <th>ELflux</th>\n",
       "      <th>continuum</th>\n",
       "      <th>EW</th>\n",
       "    </tr>\n",
       "  </thead>\n",
       "  <tbody>\n",
       "    <tr>\n",
       "      <th>count</th>\n",
       "      <td>5.342000e+03</td>\n",
       "      <td>5.342000e+03</td>\n",
       "      <td>5.342000e+03</td>\n",
       "      <td>5.342000e+03</td>\n",
       "    </tr>\n",
       "    <tr>\n",
       "      <th>mean</th>\n",
       "      <td>4.764307e-14</td>\n",
       "      <td>7.272356e-16</td>\n",
       "      <td>-3.351868e-16</td>\n",
       "      <td>2.660212e-18</td>\n",
       "    </tr>\n",
       "    <tr>\n",
       "      <th>std</th>\n",
       "      <td>1.000000e+00</td>\n",
       "      <td>1.000000e+00</td>\n",
       "      <td>1.000000e+00</td>\n",
       "      <td>1.000000e+00</td>\n",
       "    </tr>\n",
       "    <tr>\n",
       "      <th>min</th>\n",
       "      <td>-1.909843e+00</td>\n",
       "      <td>-3.490171e-01</td>\n",
       "      <td>-1.933709e-01</td>\n",
       "      <td>-2.502623e-01</td>\n",
       "    </tr>\n",
       "    <tr>\n",
       "      <th>25%</th>\n",
       "      <td>-8.145499e-01</td>\n",
       "      <td>-3.007989e-01</td>\n",
       "      <td>-1.895221e-01</td>\n",
       "      <td>-2.361628e-01</td>\n",
       "    </tr>\n",
       "    <tr>\n",
       "      <th>50%</th>\n",
       "      <td>2.548601e-02</td>\n",
       "      <td>-2.526010e-01</td>\n",
       "      <td>-1.870733e-01</td>\n",
       "      <td>-1.905579e-01</td>\n",
       "    </tr>\n",
       "    <tr>\n",
       "      <th>75%</th>\n",
       "      <td>8.766394e-01</td>\n",
       "      <td>-1.415343e-01</td>\n",
       "      <td>-1.708365e-01</td>\n",
       "      <td>-1.132138e-01</td>\n",
       "    </tr>\n",
       "    <tr>\n",
       "      <th>max</th>\n",
       "      <td>1.645968e+00</td>\n",
       "      <td>9.797628e+00</td>\n",
       "      <td>1.857999e+01</td>\n",
       "      <td>7.153828e+00</td>\n",
       "    </tr>\n",
       "  </tbody>\n",
       "</table>\n",
       "</div>"
      ],
      "text/plain": [
       "         wavelength        ELflux     continuum            EW\n",
       "count  5.342000e+03  5.342000e+03  5.342000e+03  5.342000e+03\n",
       "mean   4.764307e-14  7.272356e-16 -3.351868e-16  2.660212e-18\n",
       "std    1.000000e+00  1.000000e+00  1.000000e+00  1.000000e+00\n",
       "min   -1.909843e+00 -3.490171e-01 -1.933709e-01 -2.502623e-01\n",
       "25%   -8.145499e-01 -3.007989e-01 -1.895221e-01 -2.361628e-01\n",
       "50%    2.548601e-02 -2.526010e-01 -1.870733e-01 -1.905579e-01\n",
       "75%    8.766394e-01 -1.415343e-01 -1.708365e-01 -1.132138e-01\n",
       "max    1.645968e+00  9.797628e+00  1.857999e+01  7.153828e+00"
      ]
     },
     "execution_count": 28,
     "metadata": {},
     "output_type": "execute_result"
    }
   ],
   "source": [
    "normalized_X.describe()"
   ]
  },
  {
   "cell_type": "markdown",
   "metadata": {},
   "source": [
    "## Ensemble Method 1: Random Forests\n",
    "\n",
    "Let's start with a RF Classifier with standard parameters, use cross_val_score and cross_val_predict; visualize and plot the confusion matrix."
   ]
  },
  {
   "cell_type": "code",
   "execution_count": 29,
   "metadata": {},
   "outputs": [],
   "source": [
    "model = RandomForestClassifier()"
   ]
  },
  {
   "cell_type": "code",
   "execution_count": 34,
   "metadata": {},
   "outputs": [],
   "source": [
    "cv = StratifiedKFold(shuffle = True, n_splits =5)"
   ]
  },
  {
   "cell_type": "code",
   "execution_count": 36,
   "metadata": {},
   "outputs": [],
   "source": [
    "scores = cross_val_score(model, normalized_X, y, cv = cv, scoring = 'recall')"
   ]
  },
  {
   "cell_type": "code",
   "execution_count": 37,
   "metadata": {},
   "outputs": [
    {
     "data": {
      "text/plain": [
       "(0.8164523836613948, 0.024503265438934243)"
      ]
     },
     "execution_count": 37,
     "metadata": {},
     "output_type": "execute_result"
    }
   ],
   "source": [
    "scores.mean(), scores.std()\n"
   ]
  },
  {
   "cell_type": "code",
   "execution_count": 39,
   "metadata": {},
   "outputs": [
    {
     "data": {
      "text/plain": [
       "array([0.86746988, 0.87647059, 0.84831461, 0.88484848, 0.87845304])"
      ]
     },
     "execution_count": 39,
     "metadata": {},
     "output_type": "execute_result"
    }
   ],
   "source": [
    "#Verify precision and recall\n",
    "\n",
    "cross_val_score(model, normalized_X, y, cv = cv, scoring = 'precision')"
   ]
  },
  {
   "cell_type": "code",
   "execution_count": 40,
   "metadata": {},
   "outputs": [],
   "source": [
    "ypred = cross_val_predict(model, normalized_X, y, cv = cv)"
   ]
  },
  {
   "cell_type": "code",
   "execution_count": 41,
   "metadata": {},
   "outputs": [],
   "source": [
    "cm = metrics.confusion_matrix(y, ypred)"
   ]
  },
  {
   "cell_type": "code",
   "execution_count": 42,
   "metadata": {},
   "outputs": [
    {
     "name": "stdout",
     "output_type": "stream",
     "text": [
      "Confusion matrix, without normalization\n"
     ]
    },
    {
     "data": {
      "image/png": "[encoded data removed]",
      "text/plain": [
       "<Figure size 432x288 with 2 Axes>"
      ]
     },
     "metadata": {
      "needs_background": "light"
     },
     "output_type": "display_data"
    }
   ],
   "source": [
    "plot_confusion_matrix(cm, classes = ['LAE','OII'])"
   ]
  },
  {
   "cell_type": "markdown",
   "metadata": {},
   "source": [
    "### We can look at the ROC/AUC by using the \"predict_proba\" feature."
   ]
  },
  {
   "cell_type": "code",
   "execution_count": 44,
   "metadata": {},
   "outputs": [
    {
     "data": {
      "image/png": "[encoded data removed]",
      "text/plain": [
       "<Figure size 432x288 with 1 Axes>"
      ]
     },
     "metadata": {
      "needs_background": "light"
     },
     "output_type": "display_data"
    }
   ],
   "source": [
    "#I need to call \"fit\" explicitly to do this, so I am defining a train/test split\n",
    "\n",
    "#Inspired by https://scikit-learn.org/stable/auto_examples/model_selection/plot_roc_crossval.html\n",
    "\n",
    "Xtrain, Xtest, ytrain, ytest = train_test_split(X,y,random_state=5)\n",
    "\n",
    "probas = model.fit(Xtrain, ytrain).predict_proba(Xtest) #doing only on one fold\n",
    "\n",
    "# Compute ROC curve and area under the curve\n",
    "\n",
    "fpr, tpr, thresholds = metrics.roc_curve(ytest, probas[:, 1])\n",
    "\n",
    "roc_auc = metrics.auc(fpr, tpr)\n",
    "\n",
    "plt.plot(fpr, tpr, lw=2, label = 'AUC = %0.2f' % roc_auc)\n",
    "plt.xlabel('FPR')\n",
    "plt.ylabel('TPR')\n",
    "\n",
    "plt.legend();\n"
   ]
  },
  {
   "cell_type": "markdown",
   "metadata": {},
   "source": [
    "### Feature ranking"
   ]
  },
  {
   "cell_type": "markdown",
   "metadata": {},
   "source": [
    "After the model has been fit, it will have the attribute \"feature\\_importances\\_\". We can look at the feature importance using the following code:"
   ]
  },
  {
   "cell_type": "code",
   "execution_count": 45,
   "metadata": {},
   "outputs": [
    {
     "data": {
      "text/plain": [
       "array([0.09225265, 0.24852438, 0.28194544, 0.37727754])"
      ]
     },
     "execution_count": 45,
     "metadata": {},
     "output_type": "execute_result"
    }
   ],
   "source": [
    "model.fit(normalized_X,y) #note: this is not doing any train/test split, but fitting the entire data set \n",
    "\n",
    "model.feature_importances_"
   ]
  },
  {
   "cell_type": "markdown",
   "metadata": {},
   "source": [
    "The code below plots the feature importances."
   ]
  },
  {
   "cell_type": "code",
   "execution_count": 46,
   "metadata": {},
   "outputs": [
    {
     "name": "stdout",
     "output_type": "stream",
     "text": [
      "Feature ranking:\n",
      "1. feature: EW, 3 (0.377278)\n",
      "2. feature: continuum, 2 (0.281945)\n",
      "3. feature: ELflux, 1 (0.248524)\n",
      "4. feature: wavelength, 0 (0.092253)\n"
     ]
    },
    {
     "data": {
      "image/png": "[encoded data removed]",
      "text/plain": [
       "<Figure size 1152x432 with 1 Axes>"
      ]
     },
     "metadata": {
      "needs_background": "light"
     },
     "output_type": "display_data"
    }
   ],
   "source": [
    "importances = model.feature_importances_\n",
    "indices = np.argsort(importances)[::-1]\n",
    "\n",
    "# Print the feature ranking\n",
    "print(\"Feature ranking:\")\n",
    "\n",
    "for f in range(normalized_X.shape[1]):\n",
    "    print(\"%d. feature: %s, %d (%f)\" % (f + 1, normalized_X.columns[indices[f]], indices[f], importances[indices[f]]))\n",
    "\n",
    "# Plot the feature importances of the forest\n",
    "plt.figure(figsize=(16,6))\n",
    "plt.title(\"Feature importances\")\n",
    "plt.bar(range(X.shape[1]), importances[indices],\n",
    "       color=\"r\", align=\"center\")\n",
    "plt.xticks(range(normalized_X.shape[1]), indices)\n",
    "plt.xlim([-1, normalized_X.shape[1]])\n",
    "plt.show()"
   ]
  },
  {
   "cell_type": "markdown",
   "metadata": {},
   "source": [
    "We need to take it with a grain of salt (especially when we have only a few) because information is often split if features are not independent."
   ]
  },
  {
   "cell_type": "markdown",
   "metadata": {},
   "source": [
    "### How to improve?"
   ]
  },
  {
   "cell_type": "code",
   "execution_count": 47,
   "metadata": {},
   "outputs": [
    {
     "data": {
      "text/plain": [
       "RandomForestClassifier(bootstrap=True, class_weight=None, criterion='gini',\n",
       "            max_depth=None, max_features='auto', max_leaf_nodes=None,\n",
       "            min_impurity_decrease=0.0, min_impurity_split=None,\n",
       "            min_samples_leaf=1, min_samples_split=2,\n",
       "            min_weight_fraction_leaf=0.0, n_estimators=10, n_jobs=None,\n",
       "            oob_score=False, random_state=None, verbose=0,\n",
       "            warm_start=False)"
      ]
     },
     "execution_count": 47,
     "metadata": {},
     "output_type": "execute_result"
    }
   ],
   "source": [
    "model"
   ]
  },
  {
   "cell_type": "markdown",
   "metadata": {},
   "source": [
    "#### Tree Parameters\n",
    "\n",
    "The parameters associated to that are:\n",
    "\n",
    "-  The minimum number of instances in a leaf node;\n",
    "\n",
    "-  The minimum number of instances required in a split node;\n",
    "\n",
    "- The maximum depth of tree.\n",
    "\n",
    "-  The criterion chosen to decide whether a split is \"worth it\", expressed in terms of information gain;\n",
    "\n",
    "\n",
    "#### Randomization Parameters\n",
    "\n",
    "- The number of k < n features that are used in building trees.\n",
    "\n",
    "- The re-sampling (boostrap) of the data set\n",
    "\n",
    "\n",
    "#### Forest Parameters\n",
    "\n",
    "The number of trees in the forest (n_estimators) can be adjusted, with the general understanding that more trees are better, but at some point performance will plateau, so one can find the trade-off between having more trees and lower runtime."
   ]
  },
  {
   "cell_type": "markdown",
   "metadata": {},
   "source": [
    "<b> TASKS (10 minutes) </b> \n",
    "\n",
    "-  Play with your favorite parameters to see if you can beat the benchmark performance above.\n",
    "\n",
    "-  Now do the same thing, but using recall as your scoring method."
   ]
  },
  {
   "cell_type": "code",
   "execution_count": 48,
   "metadata": {},
   "outputs": [],
   "source": [
    "cvmethod = StratifiedKFold(n_splits=5)\n",
    "parameters = {'max_depth':[3,5,8], \\\n",
    "              'max_features': [2,4], 'n_estimators':[10,20,50],\n",
    "             'class_weight':[{1:1},{1:3},{1:5}]}\n",
    "nmodels = np.product([len(el) for el in parameters.values()])"
   ]
  },
  {
   "cell_type": "code",
   "execution_count": 50,
   "metadata": {},
   "outputs": [
    {
     "name": "stdout",
     "output_type": "stream",
     "text": [
      "Fitting 5 folds for each of 54 candidates, totalling 270 fits\n"
     ]
    },
    {
     "name": "stderr",
     "output_type": "stream",
     "text": [
      "[Parallel(n_jobs=4)]: Using backend LokyBackend with 4 concurrent workers.\n",
      "[Parallel(n_jobs=4)]: Done  42 tasks      | elapsed:    4.4s\n",
      "[Parallel(n_jobs=4)]: Done 192 tasks      | elapsed:   13.6s\n"
     ]
    },
    {
     "name": "stdout",
     "output_type": "stream",
     "text": [
      "Best params, best score: 0.9680 {'class_weight': {1: 5}, 'max_depth': 3, 'max_features': 2, 'n_estimators': 20}\n",
      "Time per model (s): 0.0855\n"
     ]
    },
    {
     "name": "stderr",
     "output_type": "stream",
     "text": [
      "[Parallel(n_jobs=4)]: Done 270 out of 270 | elapsed:   18.4s finished\n"
     ]
    }
   ],
   "source": [
    "model = GridSearchCV(RandomForestClassifier(), parameters, cv = cvmethod, \\\n",
    "                     scoring = 'recall', \\\n",
    "    verbose = 1, n_jobs = 4)\n",
    "start = time.time()\n",
    "model.fit(normalized_X, y)\n",
    "stop = time.time()\n",
    "print('Best params, best score:', \"{:.4f}\".format(model.best_score_), model.best_params_),\n",
    "print('Time per model (s):', \"{:.4f}\".format((stop-start)/float(nmodels*4)))"
   ]
  },
  {
   "cell_type": "code",
   "execution_count": 51,
   "metadata": {},
   "outputs": [
    {
     "name": "stdout",
     "output_type": "stream",
     "text": [
      "Fitting 5 folds for each of 54 candidates, totalling 270 fits\n"
     ]
    },
    {
     "name": "stderr",
     "output_type": "stream",
     "text": [
      "[Parallel(n_jobs=4)]: Using backend LokyBackend with 4 concurrent workers.\n",
      "[Parallel(n_jobs=4)]: Done 144 tasks      | elapsed:    7.6s\n"
     ]
    },
    {
     "name": "stdout",
     "output_type": "stream",
     "text": [
      "Best params, best score: 0.9489 {'class_weight': {1: 1}, 'max_depth': 3, 'max_features': 4, 'n_estimators': 10}\n",
      "Time per model (s): 0.0682\n"
     ]
    },
    {
     "name": "stderr",
     "output_type": "stream",
     "text": [
      "[Parallel(n_jobs=4)]: Done 270 out of 270 | elapsed:   14.7s finished\n"
     ]
    }
   ],
   "source": [
    "model = GridSearchCV(RandomForestClassifier(), parameters, cv = cvmethod, \\\n",
    "                     scoring = 'accuracy', \\\n",
    "    verbose = 1, n_jobs = 4)\n",
    "start = time.time()\n",
    "model.fit(normalized_X, y)\n",
    "stop = time.time()\n",
    "print('Best params, best score:', \"{:.4f}\".format(model.best_score_), model.best_params_),\n",
    "print('Time per model (s):', \"{:.4f}\".format((stop-start)/float(nmodels*4)))"
   ]
  },
  {
   "cell_type": "markdown",
   "metadata": {},
   "source": [
    "### Ensemble methods 2: Gradient Boosting Models"
   ]
  },
  {
   "cell_type": "markdown",
   "metadata": {},
   "source": [
    "Gradient Boosting models are another ensemble method where weak learners (usually decision stumps) are combined together.\n",
    "\n",
    "Unlike Random Forests, the model is built by <b> adding individual trees in a sequential fashion, </b>\n",
    "but choosing which trees we add to the model in a way that minimizes the current loss function. The \"Gradient\" part refers to the fact that we try to move along the gradient of the objective function (by calculating its numerical derivative) as we add more trees.\n",
    "\n",
    "The parameters depend on the particular implementation.\n",
    "\n",
    "In the sklearn formulation, the parameters of each tree are essentially the same we saw above; additionally we have the \"learning_rate\" parameter, which dictates how much each tree contribute to the final estimator, and the \"subsample\" parameters, which allows one to use a < 1.0 fraction of samples.\n",
    "\n",
    "I liked this blog post about parameter tuning for GBMs:\n",
    "\n",
    "https://www.analyticsvidhya.com/blog/2016/02/complete-guide-parameter-tuning-gradient-boosting-gbm-python/"
   ]
  },
  {
   "cell_type": "markdown",
   "metadata": {},
   "source": [
    "#### We'll do the usual benchmarking with cross_val_score and check differences with RF:"
   ]
  },
  {
   "cell_type": "code",
   "execution_count": 54,
   "metadata": {},
   "outputs": [],
   "source": [
    "model2 = GradientBoostingClassifier()"
   ]
  },
  {
   "cell_type": "code",
   "execution_count": 57,
   "metadata": {},
   "outputs": [],
   "source": [
    "scores2 = cross_val_score(model2, normalized_X, y, cv = cv, scoring = 'recall')"
   ]
  },
  {
   "cell_type": "code",
   "execution_count": 58,
   "metadata": {},
   "outputs": [
    {
     "data": {
      "text/plain": [
       "(0.8388383206280577, 0.006445393757705936)"
      ]
     },
     "execution_count": 58,
     "metadata": {},
     "output_type": "execute_result"
    }
   ],
   "source": [
    "scores2.mean(), scores2.std()"
   ]
  },
  {
   "cell_type": "markdown",
   "metadata": {},
   "source": [
    "<b> TASKS (10 minutes) </b>\n",
    "\n",
    "-  Use the get_params() method to find out the names and signatures of different parameters, and their default values.\n",
    "\n",
    "-  Play with your favorite parameters to see how much you can improve the benchmark performance above.\n",
    "\n",
    "-  Compare the timings to Random Forests."
   ]
  },
  {
   "cell_type": "code",
   "execution_count": 59,
   "metadata": {},
   "outputs": [
    {
     "data": {
      "text/plain": [
       "GradientBoostingClassifier(criterion='friedman_mse', init=None,\n",
       "              learning_rate=0.1, loss='deviance', max_depth=3,\n",
       "              max_features=None, max_leaf_nodes=None,\n",
       "              min_impurity_decrease=0.0, min_impurity_split=None,\n",
       "              min_samples_leaf=1, min_samples_split=2,\n",
       "              min_weight_fraction_leaf=0.0, n_estimators=100,\n",
       "              n_iter_no_change=None, presort='auto', random_state=None,\n",
       "              subsample=1.0, tol=0.0001, validation_fraction=0.1,\n",
       "              verbose=0, warm_start=False)"
      ]
     },
     "execution_count": 59,
     "metadata": {},
     "output_type": "execute_result"
    }
   ],
   "source": [
    "model2"
   ]
  },
  {
   "cell_type": "code",
   "execution_count": 61,
   "metadata": {},
   "outputs": [
    {
     "name": "stdout",
     "output_type": "stream",
     "text": [
      "Fitting 5 folds for each of 27 candidates, totalling 135 fits\n"
     ]
    },
    {
     "name": "stderr",
     "output_type": "stream",
     "text": [
      "[Parallel(n_jobs=4)]: Using backend LokyBackend with 4 concurrent workers.\n",
      "[Parallel(n_jobs=4)]: Done  62 tasks      | elapsed:    8.4s\n"
     ]
    },
    {
     "name": "stdout",
     "output_type": "stream",
     "text": [
      "Best params, best score: 0.9493 {'learning_rate': 0.1, 'max_depth': 1, 'n_estimators': 100}\n",
      "Time per model (s): 0.1930\n"
     ]
    },
    {
     "name": "stderr",
     "output_type": "stream",
     "text": [
      "[Parallel(n_jobs=4)]: Done 135 out of 135 | elapsed:   20.7s finished\n"
     ]
    }
   ],
   "source": [
    "parameters = {'max_depth':[1,3,5], 'learning_rate': [0.1, 0.3, 0.5], 'n_estimators': [50, 100, 200]}\n",
    "nmodels = np.product([len(el) for el in parameters.values()])\n",
    "model = GridSearchCV(GradientBoostingClassifier(), parameters, \\\n",
    "                cv = cvmethod, scoring = 'accuracy', verbose = 1, n_jobs = 4)\n",
    "start = time.time()\n",
    "model.fit(normalized_X,y)\n",
    "stop = time.time()\n",
    "print('Best params, best score:', \"{:.4f}\".format(model.best_score_), model.best_params_),\n",
    "print('Time per model (s):', \"{:.4f}\".format((stop-start)/float(nmodels*4)))"
   ]
  },
  {
   "cell_type": "code",
   "execution_count": null,
   "metadata": {},
   "outputs": [],
   "source": []
  },
  {
   "cell_type": "markdown",
   "metadata": {},
   "source": [
    "### Subtleties in parameter optimization (we'll see some today)\n",
    "\n",
    "-  Use cv_results to look at gradients along parameters and build understanding;\n",
    "\n",
    "-  Push the edges of your parameter grid search; \n",
    "\n",
    "-  Do nested cross validation to evaluate the generalization error in order to avoid leakage between the parameter optimization and the cross validation procedure. "
   ]
  },
  {
   "cell_type": "markdown",
   "metadata": {},
   "source": [
    "### My advice: Define your own evaluation metric \n",
    "\n",
    "This is an example of what we did for this paper (Leung, VA et al 2016), where x0 = 1 - precision and x1 = 1 - recall.\n",
    "\n",
    "<img src=\"Formula_Leung.jpg\" width=\"300\"/>\n"
   ]
  },
  {
   "cell_type": "markdown",
   "metadata": {},
   "source": [
    "#### How to do that in code?"
   ]
  },
  {
   "cell_type": "code",
   "execution_count": null,
   "metadata": {},
   "outputs": [],
   "source": [
    "from sklearn.metrics import make_scorer"
   ]
  },
  {
   "cell_type": "code",
   "execution_count": null,
   "metadata": {},
   "outputs": [],
   "source": [
    "def my_loss_func(y, ypred):\n",
    "    return np.log(1+np.abs(y-ypred).max())"
   ]
  },
  {
   "cell_type": "code",
   "execution_count": null,
   "metadata": {},
   "outputs": [],
   "source": [
    "model = RandomForestClassifier()"
   ]
  },
  {
   "cell_type": "code",
   "execution_count": null,
   "metadata": {},
   "outputs": [],
   "source": [
    "cross_val_score(model, normalized_X, y, cv = cvmethod, \\\n",
    "               scoring = make_scorer(my_loss_func, greater_is_better=False))"
   ]
  },
  {
   "cell_type": "markdown",
   "metadata": {},
   "source": [
    "### Summary\n",
    "\n",
    "Take a look at your data before you start building models.\n",
    "\n",
    "Which algorithm is best, and how you will optimize it, really depends on what you are trying to do.\n",
    "\n",
    "Define your own evaluation metric and/or pick the one that works best for your problem and your data."
   ]
  },
  {
   "cell_type": "markdown",
   "metadata": {},
   "source": [
    "### Exercises :) "
   ]
  },
  {
   "cell_type": "markdown",
   "metadata": {},
   "source": [
    "### 1. Try out xgboost (vs sklearn's GBM)\n",
    "\n",
    "Sometimes knowns as \"regularized\" GBM, more robust to overfitting.\n",
    "\n",
    "Has more flexibility in defining weak learners, and objective function.\n",
    "\n",
    "Reputation of being very fast.\n",
    "\n",
    "From the same author as the one above:\n",
    "\n",
    "https://www.analyticsvidhya.com/blog/2016/03/complete-guide-parameter-tuning-xgboost-with-codes-python/"
   ]
  },
  {
   "cell_type": "code",
   "execution_count": null,
   "metadata": {},
   "outputs": [],
   "source": [
    "import xgboost"
   ]
  },
  {
   "cell_type": "code",
   "execution_count": null,
   "metadata": {},
   "outputs": [],
   "source": [
    "model = xgboost.XGBClassifier()"
   ]
  },
  {
   "cell_type": "code",
   "execution_count": null,
   "metadata": {},
   "outputs": [],
   "source": [
    "model.get_params()"
   ]
  },
  {
   "cell_type": "code",
   "execution_count": null,
   "metadata": {},
   "outputs": [],
   "source": []
  },
  {
   "cell_type": "code",
   "execution_count": null,
   "metadata": {},
   "outputs": [],
   "source": []
  },
  {
   "cell_type": "markdown",
   "metadata": {},
   "source": [
    "### 2. Try out HistGradientBoostingClassifier \n",
    "\n",
    "(sklearn's newest implementation, inspired by Microsoft's LightGBM. Promises to be super fast\n",
    "on large ( > 10,000) data sets, by turning numerical features into bins to limit the number of possible splits. Requires installing sklearn v 0.21.x... I didn't)\n",
    "\n"
   ]
  },
  {
   "cell_type": "code",
   "execution_count": null,
   "metadata": {},
   "outputs": [],
   "source": [
    "#This is the starter code\n",
    "\n",
    "# explicitly require this experimental feature\n",
    "from sklearn.experimental import enable_hist_gradient_boosting  # noqa\n",
    "# now you can import normally from ensemble\n",
    "from sklearn.ensemble import HistGradientBoostingClassifier\n"
   ]
  },
  {
   "cell_type": "markdown",
   "metadata": {},
   "source": [
    "### 3. Compare DT, RF, GBM on same data set (either this one, or variable stars).\n",
    "\n",
    "Compare performance of RF, GBM to DT out of the box for the variable star data set. Are ensemble methods effective in reducing overfitting?\n",
    "\n",
    "Note: if you'd like, you can use this handy function \"checktraintest\" that I wrote to evaluate the difference between train and test scores in a \"cross-validate-y\" fashion. The standard deviation helps determine if the difference is statistically significant."
   ]
  },
  {
   "cell_type": "code",
   "execution_count": null,
   "metadata": {},
   "outputs": [],
   "source": [
    "def checktraintest(X, y, model, ntrials =5, test_size = 0.2):\n",
    "    \n",
    "    \"\"\"evaluates the difference between a classifier's train and test scores \n",
    "    in a \"k-fold-y\" fashion. Output means and std to help determine if \n",
    "    the difference is statistically significant. \"\"\"\n",
    "\n",
    "    scores_train = np.zeros(ntrials)\n",
    "    scores_test = np.zeros(ntrials)\n",
    "\n",
    "    for i in range(ntrials):\n",
    "        X_train, X_test, y_train, y_test = \\\n",
    "        train_test_split(X, y, test_size=test_size, random_state=i)\n",
    "        model.fit(X_train, y_train)\n",
    "        pred_test = model.predict(X_test)\n",
    "        pred_train = model.predict(X_train)\n",
    "\n",
    "        scores_test[i] = (metrics.accuracy_score(y_test,pred_test))\n",
    "        scores_train[i] =(metrics.accuracy_score(y_train,pred_train))\n",
    "\n",
    "    print('Training scores '+str(scores_train.mean())+' +- '+str(scores_train.std()))\n",
    "    print('Test scores '+str(scores_test.mean())+' +- '+str(scores_test.std()))"
   ]
  }
 ],
 "metadata": {
  "kernelspec": {
   "display_name": "Python 3",
   "language": "python",
   "name": "python3"
  },
  "language_info": {
   "codemirror_mode": {
    "name": "ipython",
    "version": 3
   },
   "file_extension": ".py",
   "mimetype": "text/x-python",
   "name": "python",
   "nbconvert_exporter": "python",
   "pygments_lexer": "ipython3",
   "version": "3.7.3"
  }
 },
 "nbformat": 4,
 "nbformat_minor": 2
}
