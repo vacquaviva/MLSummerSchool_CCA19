{
 "cells": [
  {
   "cell_type": "code",
   "execution_count": null,
   "metadata": {},
   "outputs": [],
   "source": [
    "#This is a notebook to work with some galaxy images and apply the KMeans clustering algorithm.\n",
    "\n",
    "#Author: Viviana Acquaviva\n",
    "\n",
    "#License: BSD but really should be TBD - just be nice."
   ]
  },
  {
   "cell_type": "code",
   "execution_count": null,
   "metadata": {},
   "outputs": [],
   "source": [
    "import numpy as np\n",
    "import pandas as pd\n",
    "import os\n",
    "import random\n",
    "import matplotlib.pyplot as plt\n",
    "%matplotlib inline\n",
    "\n",
    "import skimage\n",
    "from skimage.transform import resize, rescale\n",
    "from skimage import io\n",
    "from skimage.feature import blob_dog, blob_log, blob_doh\n",
    "from skimage.color import rgb2gray"
   ]
  },
  {
   "cell_type": "markdown",
   "metadata": {},
   "source": [
    "This data set is composed by 200 images randomy selected from the Kaggle Galaxy Zoo challenge:\n",
    "\n",
    "https://www.kaggle.com/c/galaxy-zoo-the-galaxy-challenge"
   ]
  },
  {
   "cell_type": "markdown",
   "metadata": {},
   "source": [
    "The code below visualizes the first 25 objects in your data set. You can run it to get a view of the first 25 galaxies. Note: you might get an error message, in this case see here \n",
    "\n",
    "https://stackoverflow.com/questions/43288550/iopub-data-rate-exceeded-in-jupyter-notebook-when-viewing-image"
   ]
  },
  {
   "cell_type": "code",
   "execution_count": null,
   "metadata": {},
   "outputs": [],
   "source": [
    "fig, axes = plt.subplots(ncols= 5, nrows = 5,figsize=(50,50))\n",
    "\n",
    "ax = axes.ravel()\n",
    "\n",
    "for i in range(ax.shape[0]):\n",
    "\n",
    "    img = skimage.io.imread('Image_'+str(i)+'.png')\n",
    "    ax[i].imshow(img, cmap='gray')\n",
    "    ax[i].set_xticks([])\n",
    "    ax[i].set_yticks([])\n",
    "\n",
    "    "
   ]
  },
  {
   "cell_type": "markdown",
   "metadata": {},
   "source": [
    "Let's now get rid of some multiple sources."
   ]
  },
  {
   "cell_type": "code",
   "execution_count": null,
   "metadata": {},
   "outputs": [],
   "source": [
    "#This shows how multiple sources can be identified and masked.\n",
    "\n",
    "n_ob = 5\n",
    "\n",
    "fig, ax = plt.subplots(2, n_ob, figsize=(50, 20))\n",
    "\n",
    "for i in range(n_ob):\n",
    "\n",
    "    img = skimage.io.imread('Image_'+str(i)+'.png')\n",
    "\n",
    "    image_gray = rgb2gray(img)\n",
    "\n",
    "    blobs_log = blob_log(image_gray, max_sigma=30, num_sigma=10, threshold=.1)\n",
    "\n",
    "    # Compute radii in the 3rd column.\n",
    "    \n",
    "    blobs_log[:, 2] = blobs_log[:, 2] * np.sqrt(2)\n",
    "    \n",
    "    blobs_log = blobs_log[blobs_log[:,2].argsort()[::-1]]\n",
    "    \n",
    "    ax[0,i].imshow(img, interpolation='nearest')\n",
    "\n",
    "    X, Y = np.ogrid[:img.shape[0], :img.shape[1]]\n",
    "    \n",
    "    center = np.array([img.shape[0]/2, img.shape[1]/2]) #center\n",
    "    \n",
    "    for blob in blobs_log:    \n",
    "        y, x, r = blob    \n",
    "        c = plt.Circle((x, y), r, color = 'yellow', linewidth=2, fill=False)\n",
    "        ax[0,i].add_patch(c)\n",
    "        \n",
    "        if (np.linalg.norm(np.array([x,y])-center)) > 10: #If not in center\n",
    "        \n",
    "            mask = (X - blob[0])**2 + (Y - blob[1])**2 < r**2\n",
    "            img[mask] = 0\n",
    "    \n",
    "    ax[1,i].imshow(img, interpolation='nearest')\n",
    "        \n",
    "    print('I found', int(len(blobs_log)), 'sources.')\n",
    "    \n",
    "    if blobs_log[1,2] > 0.5*blobs_log[0,2]: #second source bigger than half first\n",
    "        print('Multiple large sources detected in image', str(i))\n"
   ]
  },
  {
   "cell_type": "code",
   "execution_count": null,
   "metadata": {},
   "outputs": [],
   "source": [
    "images.shape"
   ]
  },
  {
   "cell_type": "code",
   "execution_count": null,
   "metadata": {},
   "outputs": [],
   "source": [
    "#DO NOT EXECUTE!!! (Takes a LONG time)\n",
    "\n",
    "for i in range(200):\n",
    "\n",
    "    img = skimage.io.imread('Image_'+str(i)+'.png')\n",
    "\n",
    "    image_gray = rgb2gray(img)\n",
    "\n",
    "    blobs_log = blob_log(image_gray, max_sigma=30, num_sigma=10, threshold=.1)\n",
    "\n",
    "    # Compute radii in the 3rd column.\n",
    "    blobs_log[:, 2] = blobs_log[:, 2] * np.sqrt(2)\n",
    "    \n",
    "    blobs_log = blobs_log[blobs_log[:,2].argsort()[::-1]]\n",
    "    \n",
    "    X, Y = np.ogrid[:img.shape[0], :img.shape[1]]\n",
    "    \n",
    "    center = np.array([img.shape[0]/2, img.shape[1]/2]) #center\n",
    "    \n",
    "    for blob in blobs_log:    \n",
    "        y, x, r = blob    \n",
    "#        c = plt.Circle((x, y), r, color = 'yellow', linewidth=2, fill=False)\n",
    "#        ax.add_patch(c)\n",
    "        \n",
    "        if (np.linalg.norm(np.array([x,y])-center)) > 10: #If not in center\n",
    "        \n",
    "            mask = (X - blob[0])**2 + (Y - blob[1])**2 < r**2\n",
    "            img[mask] = 0\n",
    "    \n",
    "    skimage.io.imsave('NoSources_Image_'+str(i)+'.png',img)\n",
    "    \n",
    "    if np.mod(i, 10) == 0:\n",
    "        print('Processing image', i)"
   ]
  },
  {
   "cell_type": "markdown",
   "metadata": {},
   "source": [
    "## Start here!"
   ]
  },
  {
   "cell_type": "code",
   "execution_count": null,
   "metadata": {},
   "outputs": [],
   "source": [
    "#Takes < 1 minute\n",
    "\n",
    "#Let's read in the images, and resize them to something a bit more manageable\n",
    "\n",
    "images = []\n",
    "\n",
    "for i in range(200):\n",
    "    img =skimage.io.imread('NoSources_Image_'+str(i)+'.png')\n",
    "    img_resized = resize(img,(100,100))\n",
    "    length = np.prod(img_resized.shape)\n",
    "    img_resized = np.reshape(img_resized,length)\n",
    "    images.append(img_resized)\n",
    "    \n",
    "images = np.vstack(images)"
   ]
  },
  {
   "cell_type": "code",
   "execution_count": null,
   "metadata": {},
   "outputs": [],
   "source": [
    "images.shape"
   ]
  },
  {
   "cell_type": "code",
   "execution_count": null,
   "metadata": {},
   "outputs": [],
   "source": [
    "from sklearn.cluster import KMeans\n",
    "kmeans = KMeans(n_clusters=2)\n",
    "kmeans.fit(images)\n",
    "y_kmeans = kmeans.predict(images)"
   ]
  },
  {
   "cell_type": "markdown",
   "metadata": {},
   "source": [
    "In this case, the predictions (the cluster to which each image belongs to) can only assume the value 0 and 1. Here we show a quick way to show which galaxies are predicted to belong to each cluster."
   ]
  },
  {
   "cell_type": "code",
   "execution_count": null,
   "metadata": {},
   "outputs": [],
   "source": [
    "print(len(np.where([y_kmeans == 0])[1]))"
   ]
  },
  {
   "cell_type": "code",
   "execution_count": null,
   "metadata": {},
   "outputs": [],
   "source": [
    "print(len(np.where([y_kmeans == 1])[1]))"
   ]
  },
  {
   "cell_type": "markdown",
   "metadata": {},
   "source": [
    "We can use the code below to take a look at 25 galaxies that were placed in the first cluster and see if they look somehow alike."
   ]
  },
  {
   "cell_type": "code",
   "execution_count": null,
   "metadata": {},
   "outputs": [],
   "source": [
    "fig, axes = plt.subplots(ncols= 5, nrows = 5,figsize=(50,50))\n",
    "\n",
    "ax = axes.ravel()\n",
    "\n",
    "for i in range(min(len(np.where([y_kmeans == 0])[1]),25)):\n",
    "    #Note: the line below selects galaxies that are assigned to cluster 0\n",
    "    img = skimage.io.imread('NoSources_Image_'+str(np.where([y_kmeans == 0])[1][i])+'.png')\n",
    "    ax[i].imshow(img, cmap='gray')\n",
    "    ax[i].set_xticks([])\n",
    "    ax[i].set_yticks([])"
   ]
  },
  {
   "cell_type": "markdown",
   "metadata": {},
   "source": [
    "We can do the same thing for the second cluster."
   ]
  },
  {
   "cell_type": "code",
   "execution_count": null,
   "metadata": {},
   "outputs": [],
   "source": [
    "fig, axes = plt.subplots(ncols= 5, nrows = 5,figsize=(50,50))\n",
    "\n",
    "ax = axes.ravel()\n",
    "\n",
    "for i in range(min(len(np.where([y_kmeans == 1])[1]),25)):\n",
    "    #Note: the line below selects galaxies that are assigned to cluster 1\n",
    "    img = skimage.io.imread('NoSources_Image_'+str(np.where([y_kmeans == 1])[1][i])+'.png')\n",
    "    ax[i].imshow(img, cmap='gray')\n",
    "    ax[i].set_xticks([])\n",
    "    ax[i].set_yticks([])"
   ]
  },
  {
   "cell_type": "markdown",
   "metadata": {},
   "source": [
    "Let's now do the same thing but with three clusters, and slightly smarter initial conditions."
   ]
  },
  {
   "cell_type": "code",
   "execution_count": null,
   "metadata": {},
   "outputs": [],
   "source": [
    "kmeans = KMeans(n_clusters=3, init= 'k-means++')\n",
    "kmeans.fit(images)\n",
    "y_kmeans = kmeans.predict(images)"
   ]
  },
  {
   "cell_type": "code",
   "execution_count": null,
   "metadata": {},
   "outputs": [],
   "source": [
    "#Let's how big the clusters are.\n",
    "\n",
    "for i in range(3):\n",
    "    print(len(np.where([y_kmeans == i])[1]))"
   ]
  },
  {
   "cell_type": "markdown",
   "metadata": {},
   "source": [
    "We can investigate the small one."
   ]
  },
  {
   "cell_type": "code",
   "execution_count": null,
   "metadata": {},
   "outputs": [],
   "source": [
    "fig, axes = plt.subplots(ncols= 5, nrows = 5,figsize=(50,50))\n",
    "\n",
    "ax = axes.ravel()\n",
    "\n",
    "for i in range(min(len(np.where([y_kmeans == 2])[1]),25)): #change index here as necessary\n",
    "    #Note: the line below selects galaxies that are assigned to cluster 0\n",
    "    img = skimage.io.imread('NoSources_Image_'+str(np.where([y_kmeans == 2])[1][i])+'.png') #and here\n",
    "    ax[i].imshow(img, cmap='gray')\n",
    "    ax[i].set_xticks([])\n",
    "    ax[i].set_yticks([])"
   ]
  },
  {
   "cell_type": "markdown",
   "metadata": {},
   "source": [
    "We can now take a look at the other two clusters."
   ]
  },
  {
   "cell_type": "code",
   "execution_count": null,
   "metadata": {},
   "outputs": [],
   "source": [
    "fig, axes = plt.subplots(ncols= 5, nrows = 5, figsize=(50,50))\n",
    "\n",
    "ax = axes.ravel()\n",
    "\n",
    "for i in range(min(len(np.where([y_kmeans == 0])[1]),25)):\n",
    "    #Note: the line below selects galaxies that are assigned to cluster 1\n",
    "    img = skimage.io.imread('NoSources_Image_'+str(np.where([y_kmeans == 0])[1][i])+'.png')\n",
    "    ax[i].imshow(img, cmap='gray')\n",
    "    ax[i].set_xticks([])\n",
    "    ax[i].set_yticks([])"
   ]
  },
  {
   "cell_type": "code",
   "execution_count": null,
   "metadata": {},
   "outputs": [],
   "source": [
    "fig, axes = plt.subplots(ncols= 5, nrows = 5, figsize=(50,50))\n",
    "\n",
    "ax = axes.ravel()\n",
    "\n",
    "for i in range(min(len(np.where([y_kmeans == 1])[1]),25)):\n",
    "    #Note: the line below selects galaxies that are assigned to cluster 2\n",
    "    img = skimage.io.imread('NoSources_Image_'+str(np.where([y_kmeans == 1])[1][i])+'.png')\n",
    "    ax[i].imshow(img, cmap='gray')\n",
    "    ax[i].set_xticks([])\n",
    "    ax[i].set_yticks([])"
   ]
  },
  {
   "cell_type": "markdown",
   "metadata": {},
   "source": [
    "### Q: Basically, KMeans is classifying galaxies according to size.\n",
    "\n",
    "Ideas to fix?\n",
    "\n",
    "<br> 0. Any metric should be rotationally invariant (or the data set should be pre-processed to correct for orientation).\n",
    "\n",
    "<br> 1. Cut out central image and normalize size.\n",
    "\n",
    "<br> 2. Improve pre-processing of multiple sources.\n",
    "\n",
    "<br> 3. Modify the evaluation metric to give higher weight to features like color.\n",
    "\n",
    "<br> 4. Use many clusters until you get a good degree of simlarity among members of the same clusters, then manually re-group.\n"
   ]
  },
  {
   "cell_type": "code",
   "execution_count": null,
   "metadata": {},
   "outputs": [],
   "source": [
    "#This splits one of the clusters (where y_means = 2) in two.\n",
    "\n",
    "kmeans = KMeans(n_clusters=2, init= 'k-means++')\n",
    "\n",
    "kmeans.fit(images[y_kmeans == 1])\n",
    "\n",
    "y_kmeans_l = kmeans.predict(images[y_kmeans == 1])"
   ]
  },
  {
   "cell_type": "markdown",
   "metadata": {},
   "source": [
    "Let's look at the two new clusters."
   ]
  },
  {
   "cell_type": "code",
   "execution_count": null,
   "metadata": {},
   "outputs": [],
   "source": [
    "fig, axes = plt.subplots(ncols= 5, nrows = 5, figsize=(50,50))\n",
    "\n",
    "ax = axes.ravel()\n",
    "\n",
    "for i in range(min(len(np.where([y_kmeans_l == 0])[1]),25)):\n",
    "    img = skimage.io.imread('NoSources_Image_'+str(np.where([y_kmeans == 1])[1][np.where([y_kmeans_l == 0])[1]][i])+'.png')\n",
    "    ax[i].imshow(img, cmap='gray')\n",
    "    ax[i].set_xticks([])\n",
    "    ax[i].set_yticks([])"
   ]
  },
  {
   "cell_type": "code",
   "execution_count": null,
   "metadata": {},
   "outputs": [],
   "source": [
    "fig, axes = plt.subplots(ncols= 5, nrows = 5,figsize=(50,50))\n",
    "\n",
    "ax = axes.ravel()\n",
    "\n",
    "for i in range(min(len(np.where([y_kmeans_l == 1])[1]),25)):\n",
    "    #Note: the line below selects galaxies that are assigned to cluster 1\n",
    "    img = skimage.io.imread('NoSources_Image_'+str(np.where([y_kmeans == 1])[1][np.where([y_kmeans_l == 1])[1]][i])+'.png')\n",
    "    ax[i].imshow(img, cmap='gray')\n",
    "    ax[i].set_xticks([])\n",
    "    ax[i].set_yticks([])"
   ]
  },
  {
   "cell_type": "markdown",
   "metadata": {},
   "source": [
    "### Conclusions\n",
    "\n",
    "IMHO, clustering algorithms are powerful when they are semi-supervised.\n",
    "\n",
    "Pre-processing seems to be quite important; defining a proper distance metric can also help."
   ]
  },
  {
   "cell_type": "code",
   "execution_count": null,
   "metadata": {},
   "outputs": [],
   "source": []
  }
 ],
 "metadata": {
  "kernelspec": {
   "display_name": "Python 3",
   "language": "python",
   "name": "python3"
  },
  "language_info": {
   "codemirror_mode": {
    "name": "ipython",
    "version": 3
   },
   "file_extension": ".py",
   "mimetype": "text/x-python",
   "name": "python",
   "nbconvert_exporter": "python",
   "pygments_lexer": "ipython3",
   "version": "3.7.3"
  }
 },
 "nbformat": 4,
 "nbformat_minor": 2
}
